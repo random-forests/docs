{
  "nbformat": 4,
  "nbformat_minor": 0,
  "metadata": {
    "colab": {
      "name": "intro_to_cnns.ipynb",
      "version": "0.3.2",
      "provenance": [],
      "collapsed_sections": []
    },
    "kernelspec": {
      "name": "python3",
      "display_name": "Python 3"
    },
    "accelerator": "GPU"
  },
  "cells": [
    {
      "metadata": {
        "id": "klAltGp8ycek",
        "colab_type": "text"
      },
      "cell_type": "markdown",
      "source": [
        "**Copyright 2018 The TensorFlow Authors**.\n",
        "\n",
        "Licensed under the Apache License, Version 2.0 (the \"License\").\n",
        "\n",
        "# Intro to CNNs\n",
        "\n",
        "<table class=\"tfo-notebook-buttons\" align=\"left\">\n",
        "  <td>\n",
        "    <a target=\"_blank\" href=\"https://www.tensorflow.org/r2/tutorials/images/intro_to_cnns.ipynb\">\n",
        "    <img src=\"https://www.tensorflow.org/images/tf_logo_32px.png\" />\n",
        "    View on TensorFlow.org</a>\n",
        "  </td>\n",
        "  <td>\n",
        "    <a target=\"_blank\" href=\"https://github.com/tensorflow/docs/tree/master/site/en/r2/tutorials/images/intro_to_cnns.ipynb\">\n",
        "    <img src=\"https://www.tensorflow.org/images/colab_logo_32px.png\" />\n",
        "    Run in Google Colab</a>\n",
        "  </td>\n",
        "  <td>\n",
        "    <a target=\"_blank\" href=\"https://github.com/tensorflow/docs/blob/master/site/en/r2/tutorials/images/intro_to_cnns.ipynb\">\n",
        "    <img src=\"https://www.tensorflow.org/images/GitHub-Mark-32px.png\" />\n",
        "    View source on GitHub</a>\n",
        "  </td>\n",
        "</table>"
      ]
    },
    {
      "metadata": {
        "id": "qLGkt5qiyz4E",
        "colab_type": "text"
      },
      "cell_type": "markdown",
      "source": [
        "This tutorial demonstrates training a simple Convolutional Neural Network (CNN) to classify MNIST digits. This simple network will achieve over 99% accuracy on the MNIST test set. Because this tutorial uses the [Keras Sequential API](https://www.tensorflow.org/guide/keras), creating and training our model will take just a few lines of code.\n",
        "\n",
        "**Tip:** CNNs train faster with a GPU. If you are running this notebook with Colab, you can enable the free GPU via * Edit -> Notebook settings -> Hardware accelerator -> GPU*."
      ]
    },
    {
      "metadata": {
        "id": "m7KBpffWzlxH",
        "colab_type": "text"
      },
      "cell_type": "markdown",
      "source": [
        "### Import TensorFlow"
      ]
    },
    {
      "metadata": {
        "id": "iAve6DCL4JH4",
        "colab_type": "code",
        "colab": {}
      },
      "cell_type": "code",
      "source": [
        "import tensorflow as tf\n",
        "from tensorflow.keras import datasets, layers, models"
      ],
      "execution_count": 0,
      "outputs": []
    },
    {
      "metadata": {
        "id": "jRFxccghyMVo",
        "colab_type": "text"
      },
      "cell_type": "markdown",
      "source": [
        "### Download and prepare the MNIST dataset"
      ]
    },
    {
      "metadata": {
        "id": "JWoEqyMuXFF4",
        "colab_type": "code",
        "colab": {}
      },
      "cell_type": "code",
      "source": [
        "(train_images, train_labels), (test_images, test_labels) = datasets.mnist.load_data()\n",
        "\n",
        "train_images = train_images.reshape((60000, 28, 28, 1))\n",
        "test_images = test_images.reshape((10000, 28, 28, 1))\n",
        "\n",
        "# Normalize pixel values to be between 0 and 1\n",
        "train_images, test_images = train_images / 255.0, test_images / 255.0"
      ],
      "execution_count": 0,
      "outputs": []
    },
    {
      "metadata": {
        "id": "Oewp-wYg31t9",
        "colab_type": "text"
      },
      "cell_type": "markdown",
      "source": [
        "### Create the convolutional base"
      ]
    },
    {
      "metadata": {
        "id": "3hQvqXpNyN3x",
        "colab_type": "text"
      },
      "cell_type": "markdown",
      "source": [
        "The 6 lines of code below define the convolutional base using a common pattern: a stack of [Conv2D](https://www.tensorflow.org/api_docs/python/tf/keras/layers/Conv2D) and [MaxPooling2D](https://www.tensorflow.org/api_docs/python/tf/keras/layers/MaxPool2D) layers.\n",
        "\n",
        "As input, a CNN takes tensors of shape (image_height, image_width, color_channels), ignoring the batch size. If you are new to color channels, MNIST has one (because the images are grayscale), whereas a color image has three (R,G,B). In this example, we will configure our CNN to process inputs of shape (28, 28, 1), which is the format of MNIST images. We do this by passing the argument `input_shape` to our first layer. \n",
        "\n"
      ]
    },
    {
      "metadata": {
        "id": "L9YmGQBQPrdn",
        "colab_type": "code",
        "colab": {}
      },
      "cell_type": "code",
      "source": [
        "model = models.Sequential()\n",
        "model.add(layers.Conv2D(32, (3, 3), activation='relu', input_shape=(28, 28, 1)))\n",
        "model.add(layers.MaxPooling2D((2, 2)))\n",
        "model.add(layers.Conv2D(64, (3, 3), activation='relu'))\n",
        "model.add(layers.MaxPooling2D((2, 2)))\n",
        "model.add(layers.Conv2D(64, (3, 3), activation='relu'))"
      ],
      "execution_count": 0,
      "outputs": []
    },
    {
      "metadata": {
        "id": "lvDVFkg-2DPm",
        "colab_type": "text"
      },
      "cell_type": "markdown",
      "source": [
        "Let display the architecture of our model so far."
      ]
    },
    {
      "metadata": {
        "id": "8-C4XBg4UTJy",
        "colab_type": "code",
        "colab": {}
      },
      "cell_type": "code",
      "source": [
        "model.summary()"
      ],
      "execution_count": 0,
      "outputs": []
    },
    {
      "metadata": {
        "id": "_j-AXYeZ2GO5",
        "colab_type": "text"
      },
      "cell_type": "markdown",
      "source": [
        "Above, you can see that the output of every Conv2D and MaxPooling2D layer is a 3D tensor of shape (height, width, channels). The width and height dimensions tend to shrink as we go deeper in the network. The number of output channels for each Conv2D layer is controlled by the first argument (e.g., 32 or 64). Typically,  as the width and height shrink, we can afford (computationally) to add more output channels in each Conv2D layer."
      ]
    },
    {
      "metadata": {
        "id": "_v8sVOtG37bT",
        "colab_type": "text"
      },
      "cell_type": "markdown",
      "source": [
        "### Add Dense layers on top\n",
        "To complete our model, we will feed the last output tensor from the convolutional base (of shape (3, 3, 64)) into one or more Dense layers to perform classification. Dense layers take vectors as input (which are 1D), while the current output is a 3D tensor. First, we will flatten (or unroll) the 3D output to 1D,  then add one or more Dense layers on top. MNIST has 10 output classes, so we use a final Dense layer with 10 outputs and a softmax activation."
      ]
    },
    {
      "metadata": {
        "id": "mRs95d6LUVEi",
        "colab_type": "code",
        "colab": {}
      },
      "cell_type": "code",
      "source": [
        "model.add(layers.Flatten())\n",
        "model.add(layers.Dense(64, activation='relu'))\n",
        "model.add(layers.Dense(10, activation='softmax'))"
      ],
      "execution_count": 0,
      "outputs": []
    },
    {
      "metadata": {
        "id": "ipGiQMcR4Gtq",
        "colab_type": "text"
      },
      "cell_type": "markdown",
      "source": [
        " Here's the complete architecture of our model."
      ]
    },
    {
      "metadata": {
        "id": "8Yu_m-TZUWGX",
        "colab_type": "code",
        "colab": {}
      },
      "cell_type": "code",
      "source": [
        "model.summary()"
      ],
      "execution_count": 0,
      "outputs": []
    },
    {
      "metadata": {
        "id": "xNKXi-Gy3RO-",
        "colab_type": "text"
      },
      "cell_type": "markdown",
      "source": [
        "As you can see, our (3, 3, 64) outputs were flattened into vectors of shape (576) before going through two Dense layers."
      ]
    },
    {
      "metadata": {
        "id": "P3odqfHP4M67",
        "colab_type": "text"
      },
      "cell_type": "markdown",
      "source": [
        "### Compile and train the model"
      ]
    },
    {
      "metadata": {
        "id": "MdDzI75PUXrG",
        "colab_type": "code",
        "colab": {}
      },
      "cell_type": "code",
      "source": [
        "model.compile(optimizer='adam',\n",
        "              loss='sparse_categorical_crossentropy',\n",
        "              metrics=['accuracy'])\n",
        "\n",
        "model.fit(train_images, train_labels, epochs=5)"
      ],
      "execution_count": 0,
      "outputs": []
    },
    {
      "metadata": {
        "id": "jKgyC5K_4O0d",
        "colab_type": "text"
      },
      "cell_type": "markdown",
      "source": [
        "### Evaluate the model"
      ]
    },
    {
      "metadata": {
        "id": "gtyDF0MKUcM7",
        "colab_type": "code",
        "colab": {}
      },
      "cell_type": "code",
      "source": [
        "test_loss, test_acc = model.evaluate(test_images, test_labels)"
      ],
      "execution_count": 0,
      "outputs": []
    },
    {
      "metadata": {
        "id": "0LvwaKhtUdOo",
        "colab_type": "code",
        "colab": {}
      },
      "cell_type": "code",
      "source": [
        "print(test_acc)"
      ],
      "execution_count": 0,
      "outputs": []
    },
    {
      "metadata": {
        "id": "8cfJ8AR03gT5",
        "colab_type": "text"
      },
      "cell_type": "markdown",
      "source": [
        "As you can see, our simple CNN has achieved a test accuracy of over 99%. Not bad for a few lines of code!"
      ]
    }
  ]
}